{
 "cells": [
  {
   "cell_type": "code",
   "execution_count": null,
   "id": "213cdf89-cfff-4fdc-87b4-26a7eae6f8e9",
   "metadata": {},
   "outputs": [],
   "source": [
    "import pandas as pd"
   ]
  },
  {
   "cell_type": "code",
   "execution_count": null,
   "id": "2d1da9f9-676b-45a4-b1e0-baaa12df4aea",
   "metadata": {},
   "outputs": [],
   "source": [
    "import matplotlib.pyplot as plt\n"
   ]
  },
  {
   "cell_type": "code",
   "execution_count": null,
   "id": "a53ebdff-0796-4829-83df-a7b3da275dc4",
   "metadata": {},
   "outputs": [],
   "source": [
    "table_of_shows = pd.read_csv(\"imdb_top_1000.csv\")"
   ]
  },
  {
   "cell_type": "code",
   "execution_count": null,
   "id": "861c86e4-f058-4345-9326-3fb31da74028",
   "metadata": {},
   "outputs": [],
   "source": [
    "brief_df = table_of_shows[['Series_Title', 'Genre', 'Director', 'IMDB_Rating']].copy()"
   ]
  },
  {
   "cell_type": "code",
   "execution_count": null,
   "id": "fafca7a1-6972-42e7-9fd7-2e9c44b35e8f",
   "metadata": {},
   "outputs": [],
   "source": [
    "def check_missing_values():\n",
    "    if \"Empty DataFrame\" in brief_df[pd.isnull(brief_df.Series_Title)]:\n",
    "        print(\"there is empty data in Series_Title column\")\n",
    "    elif \"Empty DataFrame\" in brief_df[pd.isnull(brief_df.Genre)]:\n",
    "        print(\"there is empty data in Genre column\")\n",
    "    elif \"Empty DataFrame\" in brief_df[pd.isnull(brief_df.Director)]:\n",
    "        print(\"there is empty data in Director column\")\n",
    "    elif \"Empty DataFrame\" in brief_df[pd.isnull(brief_df.IMDB_Rating)]:\n",
    "        print(\"there is empty data in IMDB_Rating column \")\n",
    "    else:\n",
    "        print(\"missing values checked : no empty data\")\n"
   ]
  },
  {
   "cell_type": "code",
   "execution_count": null,
   "id": "13d3bab7-0d6e-45f8-8bb0-c0dcc9623df1",
   "metadata": {},
   "outputs": [],
   "source": [
    "check_missing_values()"
   ]
  },
  {
   "cell_type": "code",
   "execution_count": null,
   "id": "c9a01104-ccc9-44fe-acd3-526b06087fa7",
   "metadata": {},
   "outputs": [],
   "source": [
    "brief_df['Genre'] = brief_df['Genre'].str.split(', ')\n",
    "df_exploded = brief_df.explode('Genre')\n",
    "genre_counts = df_exploded['Genre'].value_counts()\n",
    "most_popular_genre = genre_counts.idxmax()"
   ]
  },
  {
   "cell_type": "code",
   "execution_count": null,
   "id": "b0c79e13-4825-44ca-8812-e01c97bca22c",
   "metadata": {},
   "outputs": [],
   "source": [
    "print(\"most popular genre is: \" + most_popular_genre)"
   ]
  },
  {
   "cell_type": "code",
   "execution_count": null,
   "id": "c43c2416-f85e-496f-b8e5-417402da7a24",
   "metadata": {},
   "outputs": [],
   "source": [
    "genre_counts_df = pd.DataFrame({'Genre': genre_counts.index, 'Count': genre_counts.values})"
   ]
  },
  {
   "cell_type": "code",
   "execution_count": null,
   "id": "e4a40764-83b1-456a-94a0-f9fdba0264ce",
   "metadata": {},
   "outputs": [],
   "source": [
    "print(genre_counts_df)"
   ]
  },
  {
   "cell_type": "code",
   "execution_count": null,
   "id": "1623f759-e4ce-4da5-b139-f24fc70b4a7c",
   "metadata": {},
   "outputs": [],
   "source": [
    "genre_counts_df = genre_counts_df.sort_values('Count', ascending=False)"
   ]
  },
  {
   "cell_type": "code",
   "execution_count": null,
   "id": "4c2d4fd6-8e32-45ad-94d6-8e1bdbf78671",
   "metadata": {},
   "outputs": [],
   "source": [
    "director_avg_ratings = brief_df.groupby('Director')['IMDB_Rating'].mean()\n",
    "director_ratings_df = pd.DataFrame({'Director': director_avg_ratings.index, 'IMDB_Rating': director_avg_ratings.values})\n",
    "director_ratings_df = director_ratings_df.sort_values('IMDB_Rating', ascending=False)\n",
    "top_10_directors = director_ratings_df.head(10)"
   ]
  },
  {
   "cell_type": "code",
   "execution_count": null,
   "id": "5344eb32-54dd-4121-a593-38428de6ef8a",
   "metadata": {},
   "outputs": [],
   "source": [
    "plt.figure(figsize=(12, 6))\n",
    "plt.bar(genre_counts_df['Genre'], genre_counts_df['Count'])\n",
    "plt.xlabel('Genre')\n",
    "plt.ylabel('Count')\n",
    "plt.title('Most Popular Genres of Movies/TV Shows')\n",
    "plt.xticks(rotation=45)\n",
    "plt.show()"
   ]
  },
  {
   "cell_type": "code",
   "execution_count": null,
   "id": "2a18db8a-2f83-4b6c-8bf3-ca62c0e33a70",
   "metadata": {},
   "outputs": [],
   "source": [
    "plt.figure(figsize=(12, 6))\n",
    "plt.bar(top_10_directors['Director'], top_10_directors['IMDB_Rating'])\n",
    "plt.xlabel('Director')\n",
    "plt.ylabel('IMDB Rating')\n",
    "plt.title('Top 10 Directors based on IMDB Rating of Movies/TV Shows')\n",
    "plt.xticks(rotation=45)\n",
    "plt.show()"
   ]
  },
  {
   "cell_type": "code",
   "execution_count": null,
   "id": "839425bd-85c5-42db-8b71-2ecf3a4b1eb5",
   "metadata": {},
   "outputs": [],
   "source": []
  },
  {
   "cell_type": "code",
   "execution_count": null,
   "id": "5ef642e9-6882-48aa-bc5f-b31895704185",
   "metadata": {},
   "outputs": [],
   "source": []
  },
  {
   "cell_type": "code",
   "execution_count": null,
   "id": "744249c4-50b6-4eae-8dc0-c386340d7f8b",
   "metadata": {},
   "outputs": [],
   "source": []
  }
 ],
 "metadata": {
  "kernelspec": {
   "display_name": "Python 3 (system-wide)",
   "language": "python",
   "name": "python3"
  },
  "language_info": {
   "codemirror_mode": {
    "name": "ipython",
    "version": 3
   },
   "file_extension": ".py",
   "mimetype": "text/x-python",
   "name": "python",
   "nbconvert_exporter": "python",
   "pygments_lexer": "ipython3",
   "version": "3.10.6"
  }
 },
 "nbformat": 4,
 "nbformat_minor": 5
}
